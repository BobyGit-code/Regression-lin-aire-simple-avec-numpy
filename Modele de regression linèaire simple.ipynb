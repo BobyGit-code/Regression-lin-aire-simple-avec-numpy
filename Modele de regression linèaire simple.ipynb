{
 "cells": [
  {
   "cell_type": "markdown",
   "id": "2254ea8d",
   "metadata": {},
   "source": [
    "# Regression linèaire simple avec Numpy"
   ]
  },
  {
   "cell_type": "markdown",
   "id": "57ffee86",
   "metadata": {},
   "source": [
    "# Librairies utiles"
   ]
  },
  {
   "cell_type": "code",
   "execution_count": 6,
   "id": "fca3a4eb",
   "metadata": {},
   "outputs": [],
   "source": [
    "import numpy as np\n",
    "import matplotlib.pyplot as plt\n",
    "from sklearn.datasets import make_regression"
   ]
  },
  {
   "cell_type": "markdown",
   "id": "96f920a9",
   "metadata": {},
   "source": [
    "# Dataset"
   ]
  },
  {
   "cell_type": "markdown",
   "id": "e7ceb473",
   "metadata": {},
   "source": [
    "Génération de données aléatoires avec une tendance linèaire avec make_regression: On a un dataset $(x,y)$ composé de 100 exemples et une seule variable $x$."
   ]
  },
  {
   "cell_type": "code",
   "execution_count": 31,
   "id": "94978bdc",
   "metadata": {},
   "outputs": [
    {
     "data": {
      "text/plain": [
       "<matplotlib.collections.PathCollection at 0x1b79e974f10>"
      ]
     },
     "execution_count": 31,
     "metadata": {},
     "output_type": "execute_result"
    },
    {
     "data": {
      "image/png": "[encoded data removed]",
      "text/plain": [
       "<Figure size 432x288 with 1 Axes>"
      ]
     },
     "metadata": {
      "needs_background": "light"
     },
     "output_type": "display_data"
    }
   ],
   "source": [
    "x, y = make_regression(n_features = 1, n_samples=500, noise=10)\n",
    "\n",
    "# Affiche du nuage de points\n",
    "plt.scatter(x,y)"
   ]
  },
  {
   "cell_type": "markdown",
   "id": "9842123d",
   "metadata": {},
   "source": [
    "Vérification des dimensions de $x$ et $y$. \n",
    "> on constate que $y$ n'a pas de dimension (100 ,1) comme $x$"
   ]
  },
  {
   "cell_type": "code",
   "execution_count": 32,
   "id": "450e2540",
   "metadata": {},
   "outputs": [
    {
     "name": "stdout",
     "output_type": "stream",
     "text": [
      "(500, 1)\n",
      "(500,)\n"
     ]
    }
   ],
   "source": [
    "#verifier les dimensions de x et y\n",
    "print(x.shape)\n",
    "print(y.shape)"
   ]
  },
  {
   "cell_type": "markdown",
   "id": "7d73dc80",
   "metadata": {},
   "source": [
    "Correction du problèle de dimension avec la fonction **np.reshape**\n",
    "\n",
    "Ensuite, Création de la matrice X qui contient la colonne de Biais. Pour cela, on colle l'un contre l'autre le vecteur x et un vecteur de 1 (avec np.ones) de dimension égale a celle de x"
   ]
  },
  {
   "cell_type": "code",
   "execution_count": 33,
   "id": "39921c42",
   "metadata": {},
   "outputs": [],
   "source": [
    "# redimensionner y\n",
    "y = y.reshape(y.shape[0],1)\n",
    "\n",
    "# transformation de x sous forme matricielle\n",
    "X = np.hstack((x, np.ones(x.shape)))"
   ]
  },
  {
   "cell_type": "markdown",
   "id": "8d6abdee",
   "metadata": {},
   "source": [
    "Finalement, création d'un vecteur parametre $\\theta$, initialisé avec des coefficients aléatoires. Ce vecteur est de dimension (2, 1). Si on désire toujours reproduire le meme vecteur $\\theta$, on utilise comme avant np.random.seed(0)."
   ]
  },
  {
   "cell_type": "code",
   "execution_count": 34,
   "id": "08b2fdef",
   "metadata": {},
   "outputs": [
    {
     "data": {
      "text/plain": [
       "array([[1.76405235],\n",
       "       [0.40015721]])"
      ]
     },
     "execution_count": 34,
     "metadata": {},
     "output_type": "execute_result"
    }
   ],
   "source": [
    "# initialisation de theta\n",
    "# vecteur de dim 2 lignes 1 colonne\n",
    "np.random.seed(0)\n",
    "theta = np.random.randn(2,1)\n",
    "theta"
   ]
  },
  {
   "cell_type": "markdown",
   "id": "3ce092e3",
   "metadata": {},
   "source": [
    "# Le modele Linèaire"
   ]
  },
  {
   "cell_type": "markdown",
   "id": "cdcfadbc",
   "metadata": {},
   "source": [
    "On implemente le modele de $F = X.\\theta$"
   ]
  },
  {
   "cell_type": "code",
   "execution_count": 35,
   "id": "69e3de3e",
   "metadata": {},
   "outputs": [],
   "source": [
    "def model(X, theta):\n",
    "    return X.dot(theta)"
   ]
  },
  {
   "cell_type": "code",
   "execution_count": 36,
   "id": "590f375f",
   "metadata": {},
   "outputs": [
    {
     "data": {
      "text/plain": [
       "[<matplotlib.lines.Line2D at 0x1b79e9cbb50>]"
      ]
     },
     "execution_count": 36,
     "metadata": {},
     "output_type": "execute_result"
    },
    {
     "data": {
      "image/png": "[encoded data removed]",
      "text/plain": [
       "<Figure size 432x288 with 1 Axes>"
      ]
     },
     "metadata": {
      "needs_background": "light"
     },
     "output_type": "display_data"
    }
   ],
   "source": [
    "# representation des prediction du modele dans un graphe\n",
    "plt.scatter(x,y)\n",
    "plt.plot(x, model(X, theta), c=\"red\")"
   ]
  },
  {
   "cell_type": "markdown",
   "id": "91b7f269",
   "metadata": {},
   "source": [
    "# Cost function : Erreur quadratique moyenne"
   ]
  },
  {
   "cell_type": "markdown",
   "id": "0606db4b",
   "metadata": {},
   "source": [
    "On mesure les erreurs du modele sur le dataset X, y en implementant la fonction **MSE**:\n",
    "$ J(\\theta) = \\frac{1}{2m} \\sum (X.\\theta - y)^2 $"
   ]
  },
  {
   "cell_type": "code",
   "execution_count": 37,
   "id": "12f1c821",
   "metadata": {},
   "outputs": [],
   "source": [
    "def cost_function(X, y, theta):\n",
    "    m = len(y) # m est le nombre de ligne du dataset\n",
    "    return 1/(2*m)*np.sum((model(X, theta) - y)**2)"
   ]
  },
  {
   "cell_type": "code",
   "execution_count": 38,
   "id": "3cfa429c",
   "metadata": {},
   "outputs": [
    {
     "data": {
      "text/plain": [
       "857.0474346445001"
      ]
     },
     "execution_count": 38,
     "metadata": {},
     "output_type": "execute_result"
    }
   ],
   "source": [
    "cost_function(X, y, theta)"
   ]
  },
  {
   "cell_type": "markdown",
   "id": "f0d7b08c",
   "metadata": {},
   "source": [
    "# Gradients\n",
    "Formule de la descente de gradient pour la **MSE** :\n",
    "$ \\frac{\\partial J(\\theta)}{\\partial \\theta} = \\frac{1}{m}.X^T.(X.\\theta - y)$ "
   ]
  },
  {
   "cell_type": "code",
   "execution_count": 39,
   "id": "b9218b97",
   "metadata": {},
   "outputs": [],
   "source": [
    "def gradient(X, y, theta):\n",
    "    m = len(y)\n",
    "    return (1/m)*X.T.dot(model(X, theta) - y)"
   ]
  },
  {
   "cell_type": "markdown",
   "id": "a5991bc6",
   "metadata": {},
   "source": [
    "# Descente de gradient\n",
    "Formule du de la decente de gradient :\n",
    "$\\theta = \\theta - \\alpha \\frac{\\partial J(\\theta)}{\\theta}$"
   ]
  },
  {
   "cell_type": "code",
   "execution_count": 40,
   "id": "8fed469e",
   "metadata": {},
   "outputs": [],
   "source": [
    "def gradient_descent(X, y, theta, learning_rate, n_iteration):\n",
    "    #tableau de n_iterations entrées \n",
    "    cost_history = np.zeros(n_iteration) #contenant la liste des erreurs du modele\n",
    "    \n",
    "    for i in range(n_iteration):\n",
    "        theta = theta - learning_rate*gradient(X, y, theta)\n",
    "        cost_history[i] = cost_function(X, y, theta)\n",
    "    return theta, cost_history"
   ]
  },
  {
   "cell_type": "markdown",
   "id": "eaaf1300",
   "metadata": {},
   "source": [
    "# Entrainement du modèle"
   ]
  },
  {
   "cell_type": "markdown",
   "id": "ec8bcf87",
   "metadata": {},
   "source": [
    "On defini le **nombre d'iterations** ainsi que le **pas d'apprentissage** $\\alpha$"
   ]
  },
  {
   "cell_type": "code",
   "execution_count": 41,
   "id": "aff9e9e8",
   "metadata": {},
   "outputs": [],
   "source": [
    "learning_rate=0.01\n",
    "n_iteration=1000\n",
    "\n",
    "# Le theta finale ainsi que les erreurs d'apprentissage du modele sont stockés respectivement \n",
    "# dans les variable theta_finale et cost_history\n",
    "theta_finale, cost_history = gradient_descent(X, y, theta, learning_rate, n_iteration)"
   ]
  },
  {
   "cell_type": "code",
   "execution_count": 42,
   "id": "1b4ff6e8",
   "metadata": {},
   "outputs": [
    {
     "data": {
      "text/plain": [
       "[<matplotlib.lines.Line2D at 0x1b79ea2bc70>]"
      ]
     },
     "execution_count": 42,
     "metadata": {},
     "output_type": "execute_result"
    },
    {
     "data": {
      "image/png": "[encoded data removed]",
      "text/plain": [
       "<Figure size 432x288 with 1 Axes>"
      ]
     },
     "metadata": {
      "needs_background": "light"
     },
     "output_type": "display_data"
    }
   ],
   "source": [
    "# vecteur prédictions qui contient les prédictions de notre modele final\n",
    "prediction =  model(X, theta_finale)\n",
    "\n",
    "# affichage des resultats(en rouge) par rapport à notre dataset(en bleu)\n",
    "plt.scatter(x,y)\n",
    "plt.plot(x, prediction, c=\"r\")"
   ]
  },
  {
   "cell_type": "markdown",
   "id": "fab1f386",
   "metadata": {},
   "source": [
    "# Courbe d'apprentissage\n",
    "Pour vérifier si notre algorithme de Descente de gradient a bien fonctionné, on observe l'évolution de la fonction cout a travers les itérations. On est sensé obtenir une courbe qui diminue a chaque itération jusqu'a stagner a un niveau minimal (proche de zéro). Ce qui est bien le cas ici."
   ]
  },
  {
   "cell_type": "code",
   "execution_count": 43,
   "id": "505db46f",
   "metadata": {},
   "outputs": [
    {
     "data": {
      "text/plain": [
       "[<matplotlib.lines.Line2D at 0x1b79ea94160>]"
      ]
     },
     "execution_count": 43,
     "metadata": {},
     "output_type": "execute_result"
    },
    {
     "data": {
      "image/png": "[encoded data removed]",
      "text/plain": [
       "<Figure size 432x288 with 1 Axes>"
      ]
     },
     "metadata": {
      "needs_background": "light"
     },
     "output_type": "display_data"
    }
   ],
   "source": [
    "# on va tracer la courbe d'apprentissage sur 1000 point\n",
    "plt.plot(range(1000), cost_history)"
   ]
  },
  {
   "cell_type": "markdown",
   "id": "bcc39e67",
   "metadata": {},
   "source": [
    "on constate qu'au bout de la 300 ieme iteration la fonction cout reste linéaire. On aurais pu arreter l'entrainement après 300 itérations pour economiser de l'energies à la machine."
   ]
  },
  {
   "cell_type": "markdown",
   "id": "77683812",
   "metadata": {},
   "source": [
    "# Evaluation des performance du modèle\n",
    ">Pour évaluer la réelle performance du modele avec une métrique populaire on peut utiliser le **coefficient de détermination** $R^2$. Il nous vient de la méthode des moindres carrés. Plus le résultat est proche de 1, meilleur est votre modele."
   ]
  },
  {
   "cell_type": "code",
   "execution_count": 44,
   "id": "510d690d",
   "metadata": {},
   "outputs": [],
   "source": [
    "def coef(y, pred):\n",
    "    # le residus de la somme des carrées\n",
    "    d = ((y - prediction)**2).sum()\n",
    "    # la sommme total des carrées\n",
    "    n = ((y - y.mean())**2).sum()\n",
    "    return 1 - d/n"
   ]
  },
  {
   "cell_type": "code",
   "execution_count": 45,
   "id": "767520e0",
   "metadata": {},
   "outputs": [
    {
     "data": {
      "text/plain": [
       "0.9496923310731303"
      ]
     },
     "execution_count": 45,
     "metadata": {},
     "output_type": "execute_result"
    }
   ],
   "source": [
    "# le coefficient de determination\n",
    "coef(y, prediction)"
   ]
  }
 ],
 "metadata": {
  "kernelspec": {
   "display_name": "Python 3 (ipykernel)",
   "language": "python",
   "name": "python3"
  },
  "language_info": {
   "codemirror_mode": {
    "name": "ipython",
    "version": 3
   },
   "file_extension": ".py",
   "mimetype": "text/x-python",
   "name": "python",
   "nbconvert_exporter": "python",
   "pygments_lexer": "ipython3",
   "version": "3.9.12"
  }
 },
 "nbformat": 4,
 "nbformat_minor": 5
}
